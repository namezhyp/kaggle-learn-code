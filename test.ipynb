{
 "cells": [
  {
   "cell_type": "code",
   "execution_count": null,
   "metadata": {},
   "outputs": [],
   "source": [
    "import re\n",
    "\n",
    "html_content = \"<div id='songs-list'>...</div>\"  # 假设这是您的HTML内容\n",
    "\n",
    "# 使用正则表达式提取汉字和电话号码\n",
    "pattern = r'(\\w+)|(\\d{3}-\\d{4})'\n",
    "match_result = re.findall(pattern, html_content)\n",
    "\n",
    "# 输出结果\n",
    "print(match_result)"
   ]
  }
 ],
 "metadata": {
  "kernelspec": {
   "display_name": "base",
   "language": "python",
   "name": "python3"
  },
  "language_info": {
   "codemirror_mode": {
    "name": "ipython",
    "version": 3
   },
   "file_extension": ".py",
   "mimetype": "text/x-python",
   "name": "python",
   "nbconvert_exporter": "python",
   "pygments_lexer": "ipython3",
   "version": "3.10.10"
  }
 },
 "nbformat": 4,
 "nbformat_minor": 2
}
